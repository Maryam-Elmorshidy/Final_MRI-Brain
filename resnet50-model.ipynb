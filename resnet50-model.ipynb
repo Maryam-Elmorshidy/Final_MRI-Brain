{
 "cells": [
  {
   "cell_type": "markdown",
   "metadata": {
    "papermill": {
     "duration": 0.006969,
     "end_time": "2024-04-25T23:24:46.235772",
     "exception": false,
     "start_time": "2024-04-25T23:24:46.228803",
     "status": "completed"
    },
    "tags": []
   },
   "source": [
    "resnet50 Transformers\n",
    "This notebook trains a Vision Transformer on Alzheimer_s Dataset."
   ]
  },
  {
   "cell_type": "code",
   "execution_count": 1,
   "metadata": {
    "execution": {
     "iopub.execute_input": "2024-05-24T11:57:01.981332Z",
     "iopub.status.busy": "2024-05-24T11:57:01.980975Z",
     "iopub.status.idle": "2024-05-24T11:57:02.351021Z",
     "shell.execute_reply": "2024-05-24T11:57:02.350052Z",
     "shell.execute_reply.started": "2024-05-24T11:57:01.981303Z"
    },
    "papermill": {
     "duration": 0.857397,
     "end_time": "2024-04-25T23:24:47.099311",
     "exception": false,
     "start_time": "2024-04-25T23:24:46.241914",
     "status": "completed"
    },
    "tags": []
   },
   "outputs": [],
   "source": [
    "# This Python 3 environment comes with many helpful analytics libraries installed\n",
    "# It is defined by the kaggle/python Docker image: https://github.com/kaggle/docker-python\n",
    "# For example, here's several helpful packages to load\n",
    "# We use Alzheimer_s Dataset to demonstrate the classification method\n",
    "\n",
    "import numpy as np # linear algebra\n",
    "import pandas as pd # data processing, CSV file I/O (e.g. pd.read_csv)\n",
    "import os\n",
    "\n",
    "# You can write up to 20GB to the current directory (/kaggle/working/) that gets preserved as output when you create a version using \"Save & Run All\"\n",
    "# You can also write temporary files to /kaggle/temp/, but they won't be saved outside of the current session"
   ]
  },
  {
   "cell_type": "code",
   "execution_count": 2,
   "metadata": {
    "execution": {
     "iopub.execute_input": "2024-05-24T11:57:02.353125Z",
     "iopub.status.busy": "2024-05-24T11:57:02.352679Z",
     "iopub.status.idle": "2024-05-24T11:57:06.365233Z",
     "shell.execute_reply": "2024-05-24T11:57:06.364237Z",
     "shell.execute_reply.started": "2024-05-24T11:57:02.353099Z"
    },
    "papermill": {
     "duration": 8.691567,
     "end_time": "2024-04-25T23:24:55.798102",
     "exception": false,
     "start_time": "2024-04-25T23:24:47.106535",
     "status": "completed"
    },
    "tags": []
   },
   "outputs": [],
   "source": [
    "import torch\n",
    "import torchvision\n",
    "from torchvision import datasets\n",
    "from torchvision import models\n",
    "from torchvision import transforms \n",
    "import torchvision.transforms as T# for simplifying the transforms\n",
    "from torch.cuda.amp import autocast, GradScaler\n",
    "\n",
    "from torch import nn, optim\n",
    "import torch.nn as nn\n",
    "from torch.nn import functional as F\n",
    "import torch.optim as optim\n",
    "from torch.utils.data import DataLoader, sampler, random_split\n",
    "import timm\n",
    "from timm.loss import LabelSmoothingCrossEntropy # This is better than normal nn.CrossEntropyLoss"
   ]
  },
  {
   "cell_type": "code",
   "execution_count": 3,
   "metadata": {
    "execution": {
     "iopub.execute_input": "2024-05-24T11:57:06.366618Z",
     "iopub.status.busy": "2024-05-24T11:57:06.366328Z",
     "iopub.status.idle": "2024-05-24T11:57:06.372003Z",
     "shell.execute_reply": "2024-05-24T11:57:06.370813Z",
     "shell.execute_reply.started": "2024-05-24T11:57:06.366593Z"
    },
    "papermill": {
     "duration": 0.013698,
     "end_time": "2024-04-25T23:24:55.818680",
     "exception": false,
     "start_time": "2024-04-25T23:24:55.804982",
     "status": "completed"
    },
    "tags": []
   },
   "outputs": [],
   "source": [
    "# remove warnings\n",
    "import warnings\n",
    "warnings.filterwarnings(\"ignore\")"
   ]
  },
  {
   "cell_type": "code",
   "execution_count": 4,
   "metadata": {
    "execution": {
     "iopub.execute_input": "2024-05-24T11:57:06.375865Z",
     "iopub.status.busy": "2024-05-24T11:57:06.375027Z",
     "iopub.status.idle": "2024-05-24T11:57:06.382104Z",
     "shell.execute_reply": "2024-05-24T11:57:06.381209Z",
     "shell.execute_reply.started": "2024-05-24T11:57:06.375834Z"
    },
    "papermill": {
     "duration": 0.014095,
     "end_time": "2024-04-25T23:24:55.839196",
     "exception": false,
     "start_time": "2024-04-25T23:24:55.825101",
     "status": "completed"
    },
    "tags": []
   },
   "outputs": [],
   "source": [
    "import matplotlib.pyplot as plt\n",
    "%matplotlib inline"
   ]
  },
  {
   "cell_type": "code",
   "execution_count": 5,
   "metadata": {
    "execution": {
     "iopub.execute_input": "2024-05-24T11:57:06.385654Z",
     "iopub.status.busy": "2024-05-24T11:57:06.385249Z",
     "iopub.status.idle": "2024-05-24T11:57:06.390956Z",
     "shell.execute_reply": "2024-05-24T11:57:06.389739Z",
     "shell.execute_reply.started": "2024-05-24T11:57:06.385627Z"
    },
    "papermill": {
     "duration": 0.013056,
     "end_time": "2024-04-25T23:24:55.858783",
     "exception": false,
     "start_time": "2024-04-25T23:24:55.845727",
     "status": "completed"
    },
    "tags": []
   },
   "outputs": [],
   "source": [
    "import sys\n",
    "from tqdm import tqdm\n",
    "import time\n",
    "import copy\n"
   ]
  },
  {
   "cell_type": "code",
   "execution_count": 6,
   "metadata": {
    "execution": {
     "iopub.execute_input": "2024-05-24T11:57:06.392767Z",
     "iopub.status.busy": "2024-05-24T11:57:06.392429Z",
     "iopub.status.idle": "2024-05-24T11:57:06.399151Z",
     "shell.execute_reply": "2024-05-24T11:57:06.398176Z",
     "shell.execute_reply.started": "2024-05-24T11:57:06.392722Z"
    },
    "papermill": {
     "duration": 0.013296,
     "end_time": "2024-04-25T23:24:55.878512",
     "exception": false,
     "start_time": "2024-04-25T23:24:55.865216",
     "status": "completed"
    },
    "tags": []
   },
   "outputs": [],
   "source": [
    "def get_classes(data_dir):\n",
    "    all_data = datasets.ImageFolder(data_dir)\n",
    "    return all_data.classes"
   ]
  },
  {
   "cell_type": "code",
   "execution_count": 7,
   "metadata": {
    "execution": {
     "iopub.execute_input": "2024-05-24T11:57:06.401390Z",
     "iopub.status.busy": "2024-05-24T11:57:06.400733Z",
     "iopub.status.idle": "2024-05-24T11:57:06.411920Z",
     "shell.execute_reply": "2024-05-24T11:57:06.410817Z",
     "shell.execute_reply.started": "2024-05-24T11:57:06.401359Z"
    },
    "papermill": {
     "duration": 0.018533,
     "end_time": "2024-04-25T23:24:55.903650",
     "exception": false,
     "start_time": "2024-04-25T23:24:55.885117",
     "status": "completed"
    },
    "tags": []
   },
   "outputs": [],
   "source": [
    "def get_data_loaders(data_dir, batch_size, batch_size_test,train_percentage=0.8):\n",
    "    # Define data transformations for data augmentation\n",
    "    transform = T.Compose([\n",
    "        T.RandomHorizontalFlip(),\n",
    "        T.RandomVerticalFlip(),\n",
    "        T.RandomApply(torch.nn.ModuleList([T.ColorJitter()]), p=0.25),\n",
    "        T.Resize(256),\n",
    "        T.CenterCrop(224),\n",
    "        T.ToTensor(),\n",
    "        T.Normalize(timm.data.IMAGENET_DEFAULT_MEAN, timm.data.IMAGENET_DEFAULT_STD),\n",
    "        T.RandomErasing(p=0.1, value='random')\n",
    "    ])\n",
    "\n",
    "\n",
    "    # Load the entire dataset\n",
    "    full_dataset = datasets.ImageFolder(data_dir, transform=transform)\n",
    "\n",
    "    # Calculate the number of samples for train, validation, and test\n",
    "    total_samples = len(full_dataset)\n",
    "    train_size = int(train_percentage * total_samples)\n",
    "    test_size = total_samples - train_size \n",
    "\n",
    "    # Split the dataset\n",
    "    train_dataset, test_dataset = torch.utils.data.random_split(\n",
    "        full_dataset, [train_size, test_size])\n",
    "    # Create DataLoader for each split\n",
    "    train_loader = DataLoader(train_dataset, batch_size=batch_size, shuffle=True, num_workers=4, pin_memory=True)\n",
    "    test_loader = DataLoader(test_dataset, batch_size=batch_size, shuffle=False, num_workers=4,pin_memory=True)\n",
    "\n",
    "    return train_loader, test_loader"
   ]
  },
  {
   "cell_type": "code",
   "execution_count": 8,
   "metadata": {
    "execution": {
     "iopub.execute_input": "2024-05-24T11:57:06.414537Z",
     "iopub.status.busy": "2024-05-24T11:57:06.413544Z",
     "iopub.status.idle": "2024-05-24T11:57:06.424213Z",
     "shell.execute_reply": "2024-05-24T11:57:06.423181Z",
     "shell.execute_reply.started": "2024-05-24T11:57:06.414506Z"
    },
    "papermill": {
     "duration": 0.013154,
     "end_time": "2024-04-25T23:24:55.923565",
     "exception": false,
     "start_time": "2024-04-25T23:24:55.910411",
     "status": "completed"
    },
    "tags": []
   },
   "outputs": [],
   "source": [
    "dataset_path =\"/kaggle/input/fdata-adni-dataset/AugmentedAlzheimerDataset\""
   ]
  },
  {
   "cell_type": "code",
   "execution_count": 9,
   "metadata": {
    "execution": {
     "iopub.execute_input": "2024-05-24T11:57:06.425880Z",
     "iopub.status.busy": "2024-05-24T11:57:06.425543Z",
     "iopub.status.idle": "2024-05-24T11:57:12.108477Z",
     "shell.execute_reply": "2024-05-24T11:57:12.107564Z",
     "shell.execute_reply.started": "2024-05-24T11:57:06.425847Z"
    },
    "papermill": {
     "duration": 14.069302,
     "end_time": "2024-04-25T23:25:09.999381",
     "exception": false,
     "start_time": "2024-04-25T23:24:55.930079",
     "status": "completed"
    },
    "tags": []
   },
   "outputs": [],
   "source": [
    "train_loader, test_loader = get_data_loaders(dataset_path , batch_size=64,batch_size_test=32)"
   ]
  },
  {
   "cell_type": "code",
   "execution_count": 10,
   "metadata": {
    "execution": {
     "iopub.execute_input": "2024-05-24T11:57:12.112267Z",
     "iopub.status.busy": "2024-05-24T11:57:12.111947Z",
     "iopub.status.idle": "2024-05-24T11:57:13.095624Z",
     "shell.execute_reply": "2024-05-24T11:57:13.094670Z",
     "shell.execute_reply.started": "2024-05-24T11:57:12.112241Z"
    },
    "papermill": {
     "duration": 6.157488,
     "end_time": "2024-04-25T23:25:16.164832",
     "exception": false,
     "start_time": "2024-04-25T23:25:10.007344",
     "status": "completed"
    },
    "tags": []
   },
   "outputs": [
    {
     "name": "stdout",
     "output_type": "stream",
     "text": [
      "['AD', 'CN', 'EMCI', 'LMCI'] 4\n"
     ]
    }
   ],
   "source": [
    "classes = get_classes(\"/kaggle/input/fdata-adni-dataset/AugmentedAlzheimerDataset\")\n",
    "print(classes, len(classes))"
   ]
  },
  {
   "cell_type": "code",
   "execution_count": 11,
   "metadata": {
    "execution": {
     "iopub.execute_input": "2024-05-24T11:57:13.097156Z",
     "iopub.status.busy": "2024-05-24T11:57:13.096799Z",
     "iopub.status.idle": "2024-05-24T11:57:13.102493Z",
     "shell.execute_reply": "2024-05-24T11:57:13.101499Z",
     "shell.execute_reply.started": "2024-05-24T11:57:13.097123Z"
    },
    "papermill": {
     "duration": 0.015003,
     "end_time": "2024-04-25T23:25:16.187300",
     "exception": false,
     "start_time": "2024-04-25T23:25:16.172297",
     "status": "completed"
    },
    "tags": []
   },
   "outputs": [],
   "source": [
    "dataloaders = {\n",
    "    \"train\": train_loader,\n",
    "    \"test\": test_loader,\n",
    "}\n",
    "\n",
    "dataset_sizes = {\n",
    "    \"train\": len(train_loader.dataset),\n",
    "    \"test\": len(test_loader.dataset),\n",
    "}"
   ]
  },
  {
   "cell_type": "code",
   "execution_count": 12,
   "metadata": {
    "execution": {
     "iopub.execute_input": "2024-05-24T11:57:13.103976Z",
     "iopub.status.busy": "2024-05-24T11:57:13.103682Z",
     "iopub.status.idle": "2024-05-24T11:57:13.122291Z",
     "shell.execute_reply": "2024-05-24T11:57:13.121326Z",
     "shell.execute_reply.started": "2024-05-24T11:57:13.103953Z"
    },
    "papermill": {
     "duration": 0.014554,
     "end_time": "2024-04-25T23:25:16.209065",
     "exception": false,
     "start_time": "2024-04-25T23:25:16.194511",
     "status": "completed"
    },
    "tags": []
   },
   "outputs": [
    {
     "name": "stdout",
     "output_type": "stream",
     "text": [
      "425 107\n"
     ]
    }
   ],
   "source": [
    "print(len(train_loader), len(test_loader))"
   ]
  },
  {
   "cell_type": "code",
   "execution_count": 13,
   "metadata": {
    "execution": {
     "iopub.execute_input": "2024-05-24T11:57:13.124037Z",
     "iopub.status.busy": "2024-05-24T11:57:13.123629Z",
     "iopub.status.idle": "2024-05-24T11:57:13.131584Z",
     "shell.execute_reply": "2024-05-24T11:57:13.130631Z",
     "shell.execute_reply.started": "2024-05-24T11:57:13.124008Z"
    },
    "papermill": {
     "duration": 0.014653,
     "end_time": "2024-04-25T23:25:16.230751",
     "exception": false,
     "start_time": "2024-04-25T23:25:16.216098",
     "status": "completed"
    },
    "tags": []
   },
   "outputs": [
    {
     "name": "stdout",
     "output_type": "stream",
     "text": [
      "27187 6797\n"
     ]
    }
   ],
   "source": [
    "print(len(train_loader.dataset),\n",
    "     len(test_loader.dataset))"
   ]
  },
  {
   "cell_type": "code",
   "execution_count": 14,
   "metadata": {
    "execution": {
     "iopub.execute_input": "2024-05-24T11:57:13.133426Z",
     "iopub.status.busy": "2024-05-24T11:57:13.132785Z",
     "iopub.status.idle": "2024-05-24T11:57:13.192317Z",
     "shell.execute_reply": "2024-05-24T11:57:13.191238Z",
     "shell.execute_reply.started": "2024-05-24T11:57:13.133395Z"
    },
    "papermill": {
     "duration": 0.112256,
     "end_time": "2024-04-25T23:25:16.350102",
     "exception": false,
     "start_time": "2024-04-25T23:25:16.237846",
     "status": "completed"
    },
    "tags": []
   },
   "outputs": [
    {
     "data": {
      "text/plain": [
       "device(type='cuda')"
      ]
     },
     "execution_count": 14,
     "metadata": {},
     "output_type": "execute_result"
    }
   ],
   "source": [
    "# now, for the model\n",
    "device = torch.device('cuda' if torch.cuda.is_available() else 'cpu')\n",
    "device"
   ]
  },
  {
   "cell_type": "code",
   "execution_count": 15,
   "metadata": {
    "execution": {
     "iopub.execute_input": "2024-05-24T11:57:13.193923Z",
     "iopub.status.busy": "2024-05-24T11:57:13.193579Z",
     "iopub.status.idle": "2024-05-24T11:57:13.927921Z",
     "shell.execute_reply": "2024-05-24T11:57:13.927126Z",
     "shell.execute_reply.started": "2024-05-24T11:57:13.193898Z"
    },
    "papermill": {
     "duration": 2.566295,
     "end_time": "2024-04-25T23:25:18.923642",
     "exception": false,
     "start_time": "2024-04-25T23:25:16.357347",
     "status": "completed"
    },
    "tags": []
   },
   "outputs": [],
   "source": [
    "\n",
    "import torch.optim as optim\n",
    "from torch.optim import lr_scheduler\n",
    "from torchvision import datasets, models, transforms\n",
    "\n",
    "# Initialize ResNet-50\n",
    "resnet50 = models.resnet50(pretrained=True)\n",
    "num_ftrs = resnet50.fc.in_features\n",
    "resnet50.fc = nn.Linear(num_ftrs, len(classes ))  # Assuming your dataset has len(class_names) classes\n",
    "resnet50 = resnet50.to(device)\n",
    "\n",
    "# Define the criterion, optimizer, and learning rate scheduler\n",
    "\n",
    "# criterion = nn.CrossEntropyLoss(weight=torch.Tensor())\n",
    "criterion = nn.CrossEntropyLoss()\n",
    "\n",
    "# Observe that all parameters are being optimized\n",
    "optimizer = optim.SGD(resnet50.parameters(), lr=0.001, momentum=0.9)\n",
    "\n",
    "# Decay LR by a factor of 0.1 every 7 epochs\n",
    "exp_lr_scheduler = lr_scheduler.StepLR(optimizer, step_size=7, gamma=0.1)\n"
   ]
  },
  {
   "cell_type": "code",
   "execution_count": 16,
   "metadata": {
    "execution": {
     "iopub.execute_input": "2024-05-24T11:57:13.929397Z",
     "iopub.status.busy": "2024-05-24T11:57:13.929087Z",
     "iopub.status.idle": "2024-05-24T11:57:13.941586Z",
     "shell.execute_reply": "2024-05-24T11:57:13.940761Z",
     "shell.execute_reply.started": "2024-05-24T11:57:13.929371Z"
    }
   },
   "outputs": [],
   "source": [
    "import time\n",
    "import copy\n",
    "import torch\n",
    "from tqdm import tqdm\n",
    "from torch.cuda.amp import autocast, GradScaler\n",
    "\n",
    "def train_model(model, criterion, optimizer, scheduler, dataloaders, dataset_sizes, device, num_epochs=25):\n",
    "    since = time.time()\n",
    "    best_model_wts = copy.deepcopy(model.state_dict())\n",
    "    best_acc = 0.0\n",
    "\n",
    "    train_acc_history = []\n",
    "    train_loss_history = []\n",
    "\n",
    "    scaler = GradScaler()  # Initialize GradScaler for mixed precision\n",
    "\n",
    "    for epoch in range(num_epochs):\n",
    "        print(f'Epoch {epoch}/{num_epochs - 1}')\n",
    "        print('-' * 10)\n",
    "\n",
    "        model.train()  # Set model to training mode\n",
    "\n",
    "        running_loss = 0.0\n",
    "        running_corrects = 0\n",
    "        total_train = 0\n",
    "\n",
    "        for inputs, labels in tqdm(dataloaders['train']):\n",
    "            inputs = inputs.to(device)\n",
    "            labels = labels.to(device)\n",
    "\n",
    "            optimizer.zero_grad()\n",
    "\n",
    "            with autocast():  # Mixed precision context\n",
    "                outputs = model(inputs)\n",
    "                _, preds = torch.max(outputs, 1)\n",
    "                loss = criterion(outputs, labels)\n",
    "\n",
    "            scaler.scale(loss).backward()  # Scale gradients\n",
    "            scaler.step(optimizer)\n",
    "            scaler.update()\n",
    "\n",
    "            running_loss += loss.item() * inputs.size(0)\n",
    "            running_corrects += torch.sum(preds == labels.data)\n",
    "            total_train += labels.size(0)\n",
    "\n",
    "        epoch_loss = running_loss / dataset_sizes['train']\n",
    "        epoch_acc = running_corrects.double() / total_train\n",
    "\n",
    "        train_loss_history.append(epoch_loss)\n",
    "        train_acc_history.append(epoch_acc.item())\n",
    "\n",
    "        print(f'Train Loss: {epoch_loss:.4f} Acc: {epoch_acc:.4f}')\n",
    "\n",
    "        if epoch_acc > best_acc:\n",
    "            best_acc = epoch_acc\n",
    "            best_model_wts = copy.deepcopy(model.state_dict())\n",
    "\n",
    "        scheduler.step()\n",
    "\n",
    "    time_elapsed = time.time() - since\n",
    "    print(f'Training complete in {time_elapsed // 60:.0f}m {time_elapsed % 60:.0f}s')\n",
    "    print(f'Best Acc: {best_acc:.4f}')\n",
    "\n",
    "    model.load_state_dict(best_model_wts)\n",
    "    return model, train_acc_history, train_loss_history\n"
   ]
  },
  {
   "cell_type": "code",
   "execution_count": 17,
   "metadata": {
    "execution": {
     "iopub.execute_input": "2024-05-24T11:57:13.943257Z",
     "iopub.status.busy": "2024-05-24T11:57:13.942675Z",
     "iopub.status.idle": "2024-05-24T11:57:13.955667Z",
     "shell.execute_reply": "2024-05-24T11:57:13.954874Z",
     "shell.execute_reply.started": "2024-05-24T11:57:13.943231Z"
    }
   },
   "outputs": [],
   "source": [
    "import numpy as np\n",
    "import torch\n",
    "from tqdm import tqdm\n",
    "import matplotlib.pyplot as plt\n",
    "\n",
    "def test_model(model, criterion, dataloader, classes, device):\n",
    "    model.eval()  # Set model to evaluation mode\n",
    "    class_correct = [0] * len(classes)\n",
    "    class_total = [0] * len(classes)\n",
    "    running_loss = 0.0\n",
    "\n",
    "    with torch.no_grad():\n",
    "        for inputs, labels in tqdm(dataloader):\n",
    "            inputs, labels = inputs.to(device), labels.to(device)\n",
    "\n",
    "            outputs = model(inputs)\n",
    "            _, preds = torch.max(outputs, 1)\n",
    "            loss = criterion(outputs, labels)\n",
    "\n",
    "            running_loss += loss.item() * inputs.size(0)\n",
    "            correct_tensor = preds.eq(labels.data.view_as(preds))\n",
    "            correct = correct_tensor.cpu().numpy()\n",
    "            \n",
    "            for i in range(len(labels)):\n",
    "                label = labels.data[i]\n",
    "                class_correct[label] += correct[i]\n",
    "                class_total[label] += 1\n",
    "\n",
    "    test_loss = running_loss / len(dataloader.dataset)\n",
    "    overall_acc = 100 * sum(class_correct) / sum(class_total)\n",
    "\n",
    "    print('Test Loss: {:.4f}'.format(test_loss))\n",
    "    \n",
    "    for i, class_name in enumerate(classes):\n",
    "        if class_total[i] > 0:\n",
    "            acc = 100 * class_correct[i] / class_total[i]\n",
    "            print(\"Test Accuracy of {:>5s}: {:2.0f}% ({}/{})\".format(class_name, acc, class_correct[i], class_total[i]))\n",
    "        else:\n",
    "            print(\"Test Accuracy of {:>5s}: NA\".format(class_name))\n",
    "            \n",
    "    print(\"Overall Test Accuracy: {:.2f}%\".format(overall_acc))\n",
    "    \n",
    "    # Plot the test accuracy for each class\n",
    "    plt.figure(figsize=(8, 6))\n",
    "    plt.bar(classes, [100 * class_correct[i] / class_total[i] if class_total[i] > 0 else 0 for i in range(len(classes))])\n",
    "    plt.xlabel('Class')\n",
    "    plt.ylabel('Test Accuracy (%)')\n",
    "    plt.title('Test Accuracy for Each Class')\n",
    "    plt.ylim(0, 100)\n",
    "    plt.show()\n",
    "\n",
    "    return test_loss, class_correct, class_total\n"
   ]
  },
  {
   "cell_type": "code",
   "execution_count": 18,
   "metadata": {
    "execution": {
     "iopub.execute_input": "2024-05-24T11:57:13.957060Z",
     "iopub.status.busy": "2024-05-24T11:57:13.956781Z",
     "iopub.status.idle": "2024-05-24T11:58:57.652446Z",
     "shell.execute_reply": "2024-05-24T11:58:57.648630Z",
     "shell.execute_reply.started": "2024-05-24T11:57:13.957029Z"
    }
   },
   "outputs": [
    {
     "name": "stdout",
     "output_type": "stream",
     "text": [
      "Epoch 0/0\n",
      "----------\n"
     ]
    },
    {
     "name": "stderr",
     "output_type": "stream",
     "text": [
      "100%|██████████| 425/425 [01:43<00:00,  4.10it/s]"
     ]
    },
    {
     "name": "stdout",
     "output_type": "stream",
     "text": [
      "Train Loss: 0.7780 Acc: 0.6509\n",
      "Training complete in 1m 44s\n",
      "Best Acc: 0.6509\n"
     ]
    },
    {
     "name": "stderr",
     "output_type": "stream",
     "text": [
      "\n"
     ]
    }
   ],
   "source": [
    "# Train the model\n",
    "resnet50, train_acc_history, train_loss_history = train_model(resnet50, criterion, optimizer, exp_lr_scheduler, dataloaders, dataset_sizes, device, num_epochs=15)\n"
   ]
  },
  {
   "cell_type": "code",
   "execution_count": null,
   "metadata": {
    "execution": {
     "iopub.execute_input": "2024-05-24T11:58:57.654687Z",
     "iopub.status.busy": "2024-05-24T11:58:57.654320Z"
    }
   },
   "outputs": [
    {
     "name": "stderr",
     "output_type": "stream",
     "text": [
      " 50%|█████     | 54/107 [00:10<00:09,  5.49it/s]"
     ]
    }
   ],
   "source": [
    "# Test the model\n",
    "test_loss, test_acc_per_class, overall_acc = test_model(resnet50, criterion, test_loader, classes, device)"
   ]
  },
  {
   "cell_type": "code",
   "execution_count": null,
   "metadata": {},
   "outputs": [],
   "source": [
    "# Plotting training accuracy\n",
    "plt.figure(figsize=(10, 5))\n",
    "plt.plot( train_acc_history,label='Training Accuracy', color='blue')\n",
    "plt.title('Training Accuracy')\n",
    "plt.xlabel('Epoch')\n",
    "plt.ylabel('Accuracy')\n",
    "plt.legend()\n",
    "plt.grid(True)\n",
    "plt.show()\n",
    "\n",
    "# Plotting training loss\n",
    "plt.figure(figsize=(10, 5))\n",
    "plt.plot(train_loss_history, label='Training Loss', color='red')\n",
    "plt.title('Training Loss')\n",
    "plt.xlabel('Epoch')\n",
    "plt.ylabel('Loss')\n",
    "plt.legend()\n",
    "plt.grid(True)\n",
    "plt.show()\n"
   ]
  },
  {
   "cell_type": "code",
   "execution_count": null,
   "metadata": {},
   "outputs": [],
   "source": [
    "import numpy as np\n",
    "import torch\n",
    "from sklearn.metrics import classification_report, confusion_matrix\n",
    "import seaborn as sns\n",
    "import matplotlib.pyplot as plt\n",
    "\n",
    "# Function to calculate predictions and true labels\n",
    "def get_predictions_and_labels(model, dataloader, device):\n",
    "    model.eval()\n",
    "    predicted_labels = []\n",
    "    true_labels = []\n",
    "\n",
    "    with torch.no_grad():\n",
    "        for inputs, labels in dataloader:\n",
    "            inputs, labels = inputs.to(device), labels.to(device)\n",
    "            outputs = model(inputs)\n",
    "            _, predicted = torch.max(outputs, 1)\n",
    "            predicted_labels.extend(predicted.cpu().numpy())\n",
    "            true_labels.extend(labels.cpu().numpy())\n",
    "\n",
    "    return true_labels, predicted_labels\n",
    "\n",
    "# Function to plot confusion matrix\n",
    "def plot_confusion_matrix(cm, classes, title='Confusion Matrix', normalize=False):\n",
    "    if normalize:\n",
    "        cm = cm.astype('float') / cm.sum(axis=1)[:, np.newaxis]\n",
    "\n",
    "    plt.figure(figsize=(8, 6))\n",
    "    sns.heatmap(cm, annot=True, fmt=\".2f\" if normalize else \"d\", cmap=\"Blues\", xticklabels=classes, yticklabels=classes)\n",
    "    plt.title(title)\n",
    "    plt.xlabel('Predicted Label')\n",
    "    plt.ylabel('True Label')\n",
    "    plt.xticks(rotation=45)\n",
    "    plt.yticks(rotation=0)\n",
    "    plt.show()\n",
    "\n",
    "# Define the class labels\n",
    "classes = ['AD', 'CN', 'EMCI', 'LMCI']\n",
    "\n",
    "# Get true and predicted labels for training data\n",
    "true_labels_train, predicted_labels_train = get_predictions_and_labels(resnet50, train_loader, device)\n",
    "\n",
    "# Get true and predicted labels for testing data\n",
    "true_labels_test, predicted_labels_test = get_predictions_and_labels(resnet50, test_loader, device)\n",
    "\n",
    "# Print classification report for training data\n",
    "print(\"Classification Report for Training Data\")\n",
    "print(classification_report(true_labels_train, predicted_labels_train, target_names=classes))\n",
    "\n",
    "# Print classification report for testing data\n",
    "print(\"Classification Report for Testing Data\")\n",
    "print(classification_report(true_labels_test, predicted_labels_test, target_names=classes))\n",
    "\n",
    "# Calculate confusion matrix for training data\n",
    "train_cm = confusion_matrix(true_labels_train, predicted_labels_train)\n",
    "\n",
    "# Calculate confusion matrix for testing data\n",
    "test_cm = confusion_matrix(true_labels_test, predicted_labels_test)\n",
    "\n",
    "# Plot confusion matrix for training data\n",
    "plot_confusion_matrix(train_cm, classes, title='Confusion Matrix for Training Data')\n",
    "# Plot normalized confusion matrix for training data\n",
    "plot_confusion_matrix(train_cm, classes, title='Normalized Confusion Matrix for Training Data', normalize=True)\n",
    "\n",
    "# Plot confusion matrix for testing data\n",
    "plot_confusion_matrix(test_cm, classes, title='Confusion Matrix for Testing Data')\n",
    "# Plot normalized confusion matrix for testing data\n",
    "plot_confusion_matrix(test_cm, classes, title='Normalized Confusion Matrix for Testing Data', normalize=True)\n"
   ]
  },
  {
   "cell_type": "code",
   "execution_count": null,
   "metadata": {},
   "outputs": [],
   "source": [
    "# example = torch.rand(1, 3, 224, 224)\n",
    "# traced_script_module = torch.jit.trace(resnet50.cpu(), example)\n",
    "# traced_script_module.save(\"/kaggle/working/alzahimer_resnet50_model.pt\")"
   ]
  },
  {
   "cell_type": "code",
   "execution_count": null,
   "metadata": {},
   "outputs": [],
   "source": []
  },
  {
   "cell_type": "code",
   "execution_count": null,
   "metadata": {},
   "outputs": [],
   "source": [
    "#Saving the trained model\n",
    "\n",
    "import pickle\n",
    "\n",
    "\n",
    "filename = 'resnet50-model.sav'\n",
    "pickle.dump(classifier, open(filename, 'wb'))\n",
    "\n",
    "\n",
    "# loading the saved model\n",
    "loaded_model = pickle.load(open('resnet50-model.sav', 'rb'))\n"
   ]
  },
  {
   "cell_type": "code",
   "execution_count": null,
   "metadata": {},
   "outputs": [],
   "source": []
  },
  {
   "cell_type": "code",
   "execution_count": null,
   "metadata": {},
   "outputs": [],
   "source": []
  },
  {
   "cell_type": "code",
   "execution_count": null,
   "metadata": {},
   "outputs": [],
   "source": []
  },
  {
   "cell_type": "code",
   "execution_count": null,
   "metadata": {},
   "outputs": [],
   "source": []
  },
  {
   "cell_type": "code",
   "execution_count": null,
   "metadata": {},
   "outputs": [],
   "source": []
  },
  {
   "cell_type": "code",
   "execution_count": null,
   "metadata": {},
   "outputs": [],
   "source": []
  },
  {
   "cell_type": "code",
   "execution_count": null,
   "metadata": {},
   "outputs": [],
   "source": []
  }
 ],
 "metadata": {
  "kaggle": {
   "accelerator": "nvidiaTeslaT4",
   "dataSources": [
    {
     "datasetId": 4408965,
     "sourceId": 7573343,
     "sourceType": "datasetVersion"
    }
   ],
   "dockerImageVersionId": 30699,
   "isGpuEnabled": true,
   "isInternetEnabled": true,
   "language": "python",
   "sourceType": "notebook"
  },
  "kernelspec": {
   "display_name": "Python 3",
   "language": "python",
   "name": "python3"
  },
  "language_info": {
   "codemirror_mode": {
    "name": "ipython",
    "version": 3
   },
   "file_extension": ".py",
   "mimetype": "text/x-python",
   "name": "python",
   "nbconvert_exporter": "python",
   "pygments_lexer": "ipython3",
   "version": "3.10.13"
  },
  "papermill": {
   "default_parameters": {},
   "duration": 2360.62976,
   "end_time": "2024-04-26T00:04:03.732773",
   "environment_variables": {},
   "exception": null,
   "input_path": "__notebook__.ipynb",
   "output_path": "__notebook__.ipynb",
   "parameters": {},
   "start_time": "2024-04-25T23:24:43.103013",
   "version": "2.5.0"
  },
  "widgets": {
   "application/vnd.jupyter.widget-state+json": {
    "state": {
     "212539065efa422b85bd4c93a1762eca": {
      "model_module": "@jupyter-widgets/controls",
      "model_module_version": "1.5.0",
      "model_name": "HBoxModel",
      "state": {
       "_dom_classes": [],
       "_model_module": "@jupyter-widgets/controls",
       "_model_module_version": "1.5.0",
       "_model_name": "HBoxModel",
       "_view_count": null,
       "_view_module": "@jupyter-widgets/controls",
       "_view_module_version": "1.5.0",
       "_view_name": "HBoxView",
       "box_style": "",
       "children": [
        "IPY_MODEL_4f7f077780844777a937defe586ffbbb",
        "IPY_MODEL_f3702696328f41f6b4dd5f6e405df4be",
        "IPY_MODEL_9fe8de0d27a049aab55a9b4dacd4ff98"
       ],
       "layout": "IPY_MODEL_a725d05c23164767bce9c1a256c019bd"
      }
     },
     "4b246861376243c59b5064be08657b0a": {
      "model_module": "@jupyter-widgets/controls",
      "model_module_version": "1.5.0",
      "model_name": "DescriptionStyleModel",
      "state": {
       "_model_module": "@jupyter-widgets/controls",
       "_model_module_version": "1.5.0",
       "_model_name": "DescriptionStyleModel",
       "_view_count": null,
       "_view_module": "@jupyter-widgets/base",
       "_view_module_version": "1.2.0",
       "_view_name": "StyleView",
       "description_width": ""
      }
     },
     "4f7f077780844777a937defe586ffbbb": {
      "model_module": "@jupyter-widgets/controls",
      "model_module_version": "1.5.0",
      "model_name": "HTMLModel",
      "state": {
       "_dom_classes": [],
       "_model_module": "@jupyter-widgets/controls",
       "_model_module_version": "1.5.0",
       "_model_name": "HTMLModel",
       "_view_count": null,
       "_view_module": "@jupyter-widgets/controls",
       "_view_module_version": "1.5.0",
       "_view_name": "HTMLView",
       "description": "",
       "description_tooltip": null,
       "layout": "IPY_MODEL_9715c4b8bb13417c894d331399dd6e7a",
       "placeholder": "​",
       "style": "IPY_MODEL_4b246861376243c59b5064be08657b0a",
       "value": "model.safetensors: 100%"
      }
     },
     "638a03fab95546749c1c6ed5ae28bd75": {
      "model_module": "@jupyter-widgets/base",
      "model_module_version": "1.2.0",
      "model_name": "LayoutModel",
      "state": {
       "_model_module": "@jupyter-widgets/base",
       "_model_module_version": "1.2.0",
       "_model_name": "LayoutModel",
       "_view_count": null,
       "_view_module": "@jupyter-widgets/base",
       "_view_module_version": "1.2.0",
       "_view_name": "LayoutView",
       "align_content": null,
       "align_items": null,
       "align_self": null,
       "border": null,
       "bottom": null,
       "display": null,
       "flex": null,
       "flex_flow": null,
       "grid_area": null,
       "grid_auto_columns": null,
       "grid_auto_flow": null,
       "grid_auto_rows": null,
       "grid_column": null,
       "grid_gap": null,
       "grid_row": null,
       "grid_template_areas": null,
       "grid_template_columns": null,
       "grid_template_rows": null,
       "height": null,
       "justify_content": null,
       "justify_items": null,
       "left": null,
       "margin": null,
       "max_height": null,
       "max_width": null,
       "min_height": null,
       "min_width": null,
       "object_fit": null,
       "object_position": null,
       "order": null,
       "overflow": null,
       "overflow_x": null,
       "overflow_y": null,
       "padding": null,
       "right": null,
       "top": null,
       "visibility": null,
       "width": null
      }
     },
     "71cca03c536c48edabfecc8a58906a03": {
      "model_module": "@jupyter-widgets/controls",
      "model_module_version": "1.5.0",
      "model_name": "DescriptionStyleModel",
      "state": {
       "_model_module": "@jupyter-widgets/controls",
       "_model_module_version": "1.5.0",
       "_model_name": "DescriptionStyleModel",
       "_view_count": null,
       "_view_module": "@jupyter-widgets/base",
       "_view_module_version": "1.2.0",
       "_view_name": "StyleView",
       "description_width": ""
      }
     },
     "775568ca3b43401daeccfb39324dbfb7": {
      "model_module": "@jupyter-widgets/controls",
      "model_module_version": "1.5.0",
      "model_name": "ProgressStyleModel",
      "state": {
       "_model_module": "@jupyter-widgets/controls",
       "_model_module_version": "1.5.0",
       "_model_name": "ProgressStyleModel",
       "_view_count": null,
       "_view_module": "@jupyter-widgets/base",
       "_view_module_version": "1.2.0",
       "_view_name": "StyleView",
       "bar_color": null,
       "description_width": ""
      }
     },
     "9715c4b8bb13417c894d331399dd6e7a": {
      "model_module": "@jupyter-widgets/base",
      "model_module_version": "1.2.0",
      "model_name": "LayoutModel",
      "state": {
       "_model_module": "@jupyter-widgets/base",
       "_model_module_version": "1.2.0",
       "_model_name": "LayoutModel",
       "_view_count": null,
       "_view_module": "@jupyter-widgets/base",
       "_view_module_version": "1.2.0",
       "_view_name": "LayoutView",
       "align_content": null,
       "align_items": null,
       "align_self": null,
       "border": null,
       "bottom": null,
       "display": null,
       "flex": null,
       "flex_flow": null,
       "grid_area": null,
       "grid_auto_columns": null,
       "grid_auto_flow": null,
       "grid_auto_rows": null,
       "grid_column": null,
       "grid_gap": null,
       "grid_row": null,
       "grid_template_areas": null,
       "grid_template_columns": null,
       "grid_template_rows": null,
       "height": null,
       "justify_content": null,
       "justify_items": null,
       "left": null,
       "margin": null,
       "max_height": null,
       "max_width": null,
       "min_height": null,
       "min_width": null,
       "object_fit": null,
       "object_position": null,
       "order": null,
       "overflow": null,
       "overflow_x": null,
       "overflow_y": null,
       "padding": null,
       "right": null,
       "top": null,
       "visibility": null,
       "width": null
      }
     },
     "9fe8de0d27a049aab55a9b4dacd4ff98": {
      "model_module": "@jupyter-widgets/controls",
      "model_module_version": "1.5.0",
      "model_name": "HTMLModel",
      "state": {
       "_dom_classes": [],
       "_model_module": "@jupyter-widgets/controls",
       "_model_module_version": "1.5.0",
       "_model_name": "HTMLModel",
       "_view_count": null,
       "_view_module": "@jupyter-widgets/controls",
       "_view_module_version": "1.5.0",
       "_view_name": "HTMLView",
       "description": "",
       "description_tooltip": null,
       "layout": "IPY_MODEL_638a03fab95546749c1c6ed5ae28bd75",
       "placeholder": "​",
       "style": "IPY_MODEL_71cca03c536c48edabfecc8a58906a03",
       "value": " 102M/102M [00:00&lt;00:00, 169MB/s]"
      }
     },
     "a725d05c23164767bce9c1a256c019bd": {
      "model_module": "@jupyter-widgets/base",
      "model_module_version": "1.2.0",
      "model_name": "LayoutModel",
      "state": {
       "_model_module": "@jupyter-widgets/base",
       "_model_module_version": "1.2.0",
       "_model_name": "LayoutModel",
       "_view_count": null,
       "_view_module": "@jupyter-widgets/base",
       "_view_module_version": "1.2.0",
       "_view_name": "LayoutView",
       "align_content": null,
       "align_items": null,
       "align_self": null,
       "border": null,
       "bottom": null,
       "display": null,
       "flex": null,
       "flex_flow": null,
       "grid_area": null,
       "grid_auto_columns": null,
       "grid_auto_flow": null,
       "grid_auto_rows": null,
       "grid_column": null,
       "grid_gap": null,
       "grid_row": null,
       "grid_template_areas": null,
       "grid_template_columns": null,
       "grid_template_rows": null,
       "height": null,
       "justify_content": null,
       "justify_items": null,
       "left": null,
       "margin": null,
       "max_height": null,
       "max_width": null,
       "min_height": null,
       "min_width": null,
       "object_fit": null,
       "object_position": null,
       "order": null,
       "overflow": null,
       "overflow_x": null,
       "overflow_y": null,
       "padding": null,
       "right": null,
       "top": null,
       "visibility": null,
       "width": null
      }
     },
     "b2e6f0080518417880a07ec077df28f2": {
      "model_module": "@jupyter-widgets/base",
      "model_module_version": "1.2.0",
      "model_name": "LayoutModel",
      "state": {
       "_model_module": "@jupyter-widgets/base",
       "_model_module_version": "1.2.0",
       "_model_name": "LayoutModel",
       "_view_count": null,
       "_view_module": "@jupyter-widgets/base",
       "_view_module_version": "1.2.0",
       "_view_name": "LayoutView",
       "align_content": null,
       "align_items": null,
       "align_self": null,
       "border": null,
       "bottom": null,
       "display": null,
       "flex": null,
       "flex_flow": null,
       "grid_area": null,
       "grid_auto_columns": null,
       "grid_auto_flow": null,
       "grid_auto_rows": null,
       "grid_column": null,
       "grid_gap": null,
       "grid_row": null,
       "grid_template_areas": null,
       "grid_template_columns": null,
       "grid_template_rows": null,
       "height": null,
       "justify_content": null,
       "justify_items": null,
       "left": null,
       "margin": null,
       "max_height": null,
       "max_width": null,
       "min_height": null,
       "min_width": null,
       "object_fit": null,
       "object_position": null,
       "order": null,
       "overflow": null,
       "overflow_x": null,
       "overflow_y": null,
       "padding": null,
       "right": null,
       "top": null,
       "visibility": null,
       "width": null
      }
     },
     "f3702696328f41f6b4dd5f6e405df4be": {
      "model_module": "@jupyter-widgets/controls",
      "model_module_version": "1.5.0",
      "model_name": "FloatProgressModel",
      "state": {
       "_dom_classes": [],
       "_model_module": "@jupyter-widgets/controls",
       "_model_module_version": "1.5.0",
       "_model_name": "FloatProgressModel",
       "_view_count": null,
       "_view_module": "@jupyter-widgets/controls",
       "_view_module_version": "1.5.0",
       "_view_name": "ProgressView",
       "bar_style": "success",
       "description": "",
       "description_tooltip": null,
       "layout": "IPY_MODEL_b2e6f0080518417880a07ec077df28f2",
       "max": 102469840,
       "min": 0,
       "orientation": "horizontal",
       "style": "IPY_MODEL_775568ca3b43401daeccfb39324dbfb7",
       "value": 102469840
      }
     }
    },
    "version_major": 2,
    "version_minor": 0
   }
  }
 },
 "nbformat": 4,
 "nbformat_minor": 4
}
